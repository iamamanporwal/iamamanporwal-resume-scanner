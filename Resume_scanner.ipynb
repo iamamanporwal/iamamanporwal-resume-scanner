{
  "nbformat": 4,
  "nbformat_minor": 0,
  "metadata": {
    "colab": {
      "provenance": [],
      "authorship_tag": "ABX9TyMio/MFmSOfnuCYy/eCYetM",
      "include_colab_link": true
    },
    "kernelspec": {
      "name": "python3",
      "display_name": "Python 3"
    },
    "language_info": {
      "name": "python"
    }
  },
  "cells": [
    {
      "cell_type": "markdown",
      "metadata": {
        "id": "view-in-github",
        "colab_type": "text"
      },
      "source": [
        "<a href=\"https://colab.research.google.com/github/iamamanporwal/resume-scanner/blob/main/Resume_scanner.ipynb\" target=\"_parent\"><img src=\"https://colab.research.google.com/assets/colab-badge.svg\" alt=\"Open In Colab\"/></a>"
      ]
    },
    {
      "cell_type": "code",
      "execution_count": null,
      "metadata": {
        "colab": {
          "base_uri": "https://localhost:8080/"
        },
        "id": "D7lOfekUWOSH",
        "outputId": "010f3914-7d4f-417a-85b5-877242ce4365"
      },
      "outputs": [
        {
          "output_type": "stream",
          "name": "stdout",
          "text": [
            "Looking in indexes: https://pypi.org/simple, https://us-python.pkg.dev/colab-wheels/public/simple/\n",
            "Collecting docx2txt\n",
            "  Downloading docx2txt-0.8.tar.gz (2.8 kB)\n",
            "  Preparing metadata (setup.py) ... \u001b[?25l\u001b[?25hdone\n",
            "Building wheels for collected packages: docx2txt\n",
            "  Building wheel for docx2txt (setup.py) ... \u001b[?25l\u001b[?25hdone\n",
            "  Created wheel for docx2txt: filename=docx2txt-0.8-py3-none-any.whl size=3980 sha256=29284a314435f778923630a1ae737b9cae560daf0ba3450392b68a1ac4e69cd7\n",
            "  Stored in directory: /root/.cache/pip/wheels/55/f0/2c/81637d42670985178b77df6d41b9b6c6dc18c94818447414b9\n",
            "Successfully built docx2txt\n",
            "Installing collected packages: docx2txt\n",
            "Successfully installed docx2txt-0.8\n"
          ]
        }
      ],
      "source": [
        "!pip install docx2txt\n",
        "import docx2txt"
      ]
    },
    {
      "cell_type": "code",
      "source": [
        "job_description = '/content/Aman Porwal.docx'\n",
        "resume = '/content/requirements.docx'"
      ],
      "metadata": {
        "id": "ziSer11AW56U"
      },
      "execution_count": null,
      "outputs": []
    },
    {
      "cell_type": "code",
      "source": [
        "print(resume)"
      ],
      "metadata": {
        "id": "XVJ1i20qW6yZ",
        "colab": {
          "base_uri": "https://localhost:8080/"
        },
        "outputId": "e9a7aec1-5ff8-4e0d-b786-fbb74d98ccf2"
      },
      "execution_count": null,
      "outputs": [
        {
          "output_type": "stream",
          "name": "stdout",
          "text": [
            "/content/requirements.docx\n"
          ]
        }
      ]
    },
    {
      "cell_type": "code",
      "source": [
        "content = [job_description, resume]"
      ],
      "metadata": {
        "id": "uqEveyhVW61I"
      },
      "execution_count": null,
      "outputs": []
    },
    {
      "cell_type": "code",
      "source": [
        "from sklearn.feature_extraction.text import CountVectorizer\n",
        "cv = CountVectorizer()\n",
        "matrix = cv.fit_transform(content)"
      ],
      "metadata": {
        "id": "FLihiHsEW63W"
      },
      "execution_count": null,
      "outputs": []
    },
    {
      "cell_type": "code",
      "source": [
        "from sklearn.metrics.pairwise import cosine_similarity\n",
        "similarity_matrix = cosine_similarity(matrix)"
      ],
      "metadata": {
        "id": "oscwOaKwW66v"
      },
      "execution_count": null,
      "outputs": []
    },
    {
      "cell_type": "code",
      "source": [
        "print(similarity_matrix)"
      ],
      "metadata": {
        "id": "cmTRM8pVYLQY",
        "colab": {
          "base_uri": "https://localhost:8080/"
        },
        "outputId": "5602f43f-6fc5-4fbc-dcd2-a4dcf9f4beb0"
      },
      "execution_count": null,
      "outputs": [
        {
          "output_type": "stream",
          "name": "stdout",
          "text": [
            "[[1.         0.57735027]\n",
            " [0.57735027 1.        ]]\n"
          ]
        }
      ]
    },
    {
      "cell_type": "code",
      "source": [
        "print('Resume Matches by :'+ str(similarity_matrix[1][0]*100)+ '%')"
      ],
      "metadata": {
        "id": "xuhfUq94YLTY",
        "colab": {
          "base_uri": "https://localhost:8080/"
        },
        "outputId": "5359bab5-764a-47dd-f946-8ec61aad6f95"
      },
      "execution_count": null,
      "outputs": [
        {
          "output_type": "stream",
          "name": "stdout",
          "text": [
            "Resume Matches by :57.73502691896258%\n"
          ]
        }
      ]
    }
  ]
}